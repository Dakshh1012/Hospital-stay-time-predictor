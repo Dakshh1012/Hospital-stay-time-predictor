{
 "cells": [
  {
   "cell_type": "code",
   "execution_count": 39,
   "id": "b16a2a5f-840b-44d4-8566-013b5b242b8b",
   "metadata": {},
   "outputs": [],
   "source": [
    "import numpy as np\n",
    "import pandas as pd\n",
    "import matplotlib.pyplot as plt\n",
    "from sklearn.model_selection import train_test_split\n",
    "from sklearn.preprocessing import StandardScaler\n",
    "from sklearn.linear_model import SGDRegressor\n",
    "\n"
   ]
  },
  {
   "cell_type": "code",
   "execution_count": 41,
   "id": "22f19277-e225-4e7b-bafe-b3cbc3c4a245",
   "metadata": {},
   "outputs": [],
   "source": [
    "data=pd.read_csv(r\"C:\\Users\\Daksh\\Desktop\\LengthOfStay.csv\")"
   ]
  },
  {
   "cell_type": "code",
   "execution_count": 42,
   "id": "5352055e-75e7-4e5a-b5b2-e59561dac3c8",
   "metadata": {},
   "outputs": [
    {
     "name": "stdout",
     "output_type": "stream",
     "text": [
      "<class 'pandas.core.frame.DataFrame'>\n",
      "RangeIndex: 100000 entries, 0 to 99999\n",
      "Data columns (total 28 columns):\n",
      " #   Column                      Non-Null Count   Dtype  \n",
      "---  ------                      --------------   -----  \n",
      " 0   eid                         100000 non-null  int64  \n",
      " 1   vdate                       100000 non-null  object \n",
      " 2   rcount                      100000 non-null  object \n",
      " 3   gender                      100000 non-null  object \n",
      " 4   dialysisrenalendstage       100000 non-null  int64  \n",
      " 5   asthma                      100000 non-null  int64  \n",
      " 6   irondef                     100000 non-null  int64  \n",
      " 7   pneum                       100000 non-null  int64  \n",
      " 8   substancedependence         100000 non-null  int64  \n",
      " 9   psychologicaldisordermajor  100000 non-null  int64  \n",
      " 10  depress                     100000 non-null  int64  \n",
      " 11  psychother                  100000 non-null  int64  \n",
      " 12  fibrosisandother            100000 non-null  int64  \n",
      " 13  malnutrition                100000 non-null  int64  \n",
      " 14  hemo                        100000 non-null  int64  \n",
      " 15  hematocrit                  100000 non-null  float64\n",
      " 16  neutrophils                 100000 non-null  float64\n",
      " 17  sodium                      100000 non-null  float64\n",
      " 18  glucose                     100000 non-null  float64\n",
      " 19  bloodureanitro              100000 non-null  float64\n",
      " 20  creatinine                  100000 non-null  float64\n",
      " 21  bmi                         100000 non-null  float64\n",
      " 22  pulse                       100000 non-null  int64  \n",
      " 23  respiration                 100000 non-null  float64\n",
      " 24  secondarydiagnosisnonicd9   100000 non-null  int64  \n",
      " 25  discharged                  100000 non-null  object \n",
      " 26  facid                       100000 non-null  object \n",
      " 27  lengthofstay                100000 non-null  int64  \n",
      "dtypes: float64(8), int64(15), object(5)\n",
      "memory usage: 21.4+ MB\n"
     ]
    }
   ],
   "source": [
    "data.info()"
   ]
  },
  {
   "cell_type": "code",
   "execution_count": 45,
   "id": "6a999f01-2cb9-48d3-a763-6ecaa1cd136a",
   "metadata": {},
   "outputs": [],
   "source": [
    "def dummy(X,column):\n",
    "    X=X.copy()\n",
    "    dummies=pd.get_dummies(X[column])\n",
    "    X=pd.concat([X,dummies],axis=1)\n",
    "    X=X.drop(column,axis=1)\n",
    "    return X"
   ]
  },
  {
   "cell_type": "code",
   "execution_count": 47,
   "id": "88089ce9-06b9-45b9-a329-4f66f9d5b3cd",
   "metadata": {},
   "outputs": [],
   "source": [
    "def preprocess(X):\n",
    "    X = X.copy()\n",
    "    X = X.drop([\"discharged\", \"vdate\"], axis=1)\n",
    "    X = dummy(X, \"gender\")\n",
    "    X=dummy(X,\"facid\")\n",
    "    X=dummy(X,\"rcount\")\n",
    "    Y = X[\"lengthofstay\"].copy()  \n",
    "    X = X.drop(\"lengthofstay\", axis=1).copy()\n",
    "    \n",
    "    X_train, X_test, Y_train, Y_test = train_test_split(X, Y, test_size=0.3, random_state=42)\n",
    "    return X_train, X_test, Y_train, Y_test\n",
    "\n"
   ]
  },
  {
   "cell_type": "code",
   "execution_count": 49,
   "id": "d424035a-3eb4-48bf-9d17-19cab454e08f",
   "metadata": {},
   "outputs": [],
   "source": [
    "\n",
    "X_train, X_test, Y_train, Y_test=preprocess(data)\n",
    "feature_names=X_train.columns.tolist()"
   ]
  },
  {
   "cell_type": "code",
   "execution_count": 51,
   "id": "abe093db-83c7-4e6f-bafd-2b3f8cdb5ec7",
   "metadata": {},
   "outputs": [],
   "source": [
    "\n",
    "scaler=StandardScaler()\n",
    "X_train=scaler.fit_transform(X_train)\n",
    "X_test=scaler.transform(X_test)"
   ]
  },
  {
   "cell_type": "code",
   "execution_count": 53,
   "id": "395149d0-8ad8-4ac9-b7d1-193e95e0e83e",
   "metadata": {},
   "outputs": [],
   "source": [
    "sgdr=SGDRegressor()\n"
   ]
  },
  {
   "cell_type": "code",
   "execution_count": 55,
   "id": "b13e5c70-7123-4d20-907b-1d629bc7be0f",
   "metadata": {},
   "outputs": [
    {
     "data": {
      "text/plain": [
       "0.7650823370350832"
      ]
     },
     "execution_count": 55,
     "metadata": {},
     "output_type": "execute_result"
    }
   ],
   "source": [
    "sgdr.fit(X_train,Y_train)\n",
    "sgdr.score(X_test,Y_test)"
   ]
  },
  {
   "cell_type": "code",
   "execution_count": null,
   "id": "3ca2c954-d04d-4c01-8c2e-8f781a145356",
   "metadata": {},
   "outputs": [
    {
     "name": "stdin",
     "output_type": "stream",
     "text": [
      "enter the value for eid 1\n",
      "enter the value for dialysisrenalendstage 1\n",
      "enter the value for asthma 1\n",
      "enter the value for irondef 5\n",
      "enter the value for pneum 2\n",
      "enter the value for substancedependence 9\n",
      "enter the value for psychologicaldisordermajor 111\n",
      "enter the value for depress 222\n",
      "enter the value for psychother 999\n",
      "enter the value for fibrosisandother 1\n"
     ]
    }
   ],
   "source": [
    " user_input=[]\n",
    "for feature in feature_names:\n",
    "    user_input.append(float(input(f\"enter the value for { feature}\")))\n",
    "user_input=np.array(user_input).reshape(1,-1)"
   ]
  },
  {
   "cell_type": "code",
   "execution_count": 35,
   "id": "3fbe7fd0-77fa-4518-83f0-4155ae89ca25",
   "metadata": {},
   "outputs": [
    {
     "ename": "NameError",
     "evalue": "name 'user_input' is not defined",
     "output_type": "error",
     "traceback": [
      "\u001b[1;31m---------------------------------------------------------------------------\u001b[0m",
      "\u001b[1;31mNameError\u001b[0m                                 Traceback (most recent call last)",
      "Cell \u001b[1;32mIn[35], line 4\u001b[0m\n\u001b[0;32m      1\u001b[0m \u001b[38;5;28;01mimport\u001b[39;00m \u001b[38;5;21;01mwarnings\u001b[39;00m\n\u001b[0;32m      2\u001b[0m warnings\u001b[38;5;241m.\u001b[39mfilterwarnings(\u001b[38;5;124m\"\u001b[39m\u001b[38;5;124mignore\u001b[39m\u001b[38;5;124m\"\u001b[39m, category\u001b[38;5;241m=\u001b[39m\u001b[38;5;167;01mUserWarning\u001b[39;00m, module\u001b[38;5;241m=\u001b[39m\u001b[38;5;124m\"\u001b[39m\u001b[38;5;124msklearn\u001b[39m\u001b[38;5;124m\"\u001b[39m)\n\u001b[1;32m----> 4\u001b[0m user_input_scaled\u001b[38;5;241m=\u001b[39mscaler\u001b[38;5;241m.\u001b[39mtransform(user_input)\n\u001b[0;32m      5\u001b[0m prediction\u001b[38;5;241m=\u001b[39msgdr\u001b[38;5;241m.\u001b[39mpredict(user_input_scaled)\n",
      "\u001b[1;31mNameError\u001b[0m: name 'user_input' is not defined"
     ]
    }
   ],
   "source": [
    "import warnings\n",
    "warnings.filterwarnings(\"ignore\", category=UserWarning, module=\"sklearn\")\n",
    "\n",
    "user_input_scaled=scaler.transform(user_input)\n",
    "prediction=sgdr.predict(user_input_scaled)"
   ]
  },
  {
   "cell_type": "code",
   "execution_count": 37,
   "id": "cf5b2ff7-fe9d-4820-9fb3-226bbc15e860",
   "metadata": {},
   "outputs": [
    {
     "ename": "NameError",
     "evalue": "name 'prediction' is not defined",
     "output_type": "error",
     "traceback": [
      "\u001b[1;31m---------------------------------------------------------------------------\u001b[0m",
      "\u001b[1;31mNameError\u001b[0m                                 Traceback (most recent call last)",
      "Cell \u001b[1;32mIn[37], line 1\u001b[0m\n\u001b[1;32m----> 1\u001b[0m ans\u001b[38;5;241m=\u001b[39mprediction[\u001b[38;5;241m0\u001b[39m]\n\u001b[0;32m      2\u001b[0m \u001b[38;5;28;01mif\u001b[39;00m ans\u001b[38;5;241m<\u001b[39m\u001b[38;5;241m=\u001b[39m\u001b[38;5;241m5\u001b[39m:\n\u001b[0;32m      3\u001b[0m     \u001b[38;5;28mprint\u001b[39m(\u001b[38;5;124m\"\u001b[39m\u001b[38;5;124m1-5 days\u001b[39m\u001b[38;5;124m\"\u001b[39m)\n",
      "\u001b[1;31mNameError\u001b[0m: name 'prediction' is not defined"
     ]
    }
   ],
   "source": [
    "\n",
    "ans=prediction[0]\n",
    "if ans<=5:\n",
    "    print(\"1-5 days\")\n",
    "elif ans<=10:\n",
    "    print(\"6-10 days\")\n",
    "elif ans<=15:\n",
    "    print(\"11-15 days\")\n",
    "elif ans<=20:\n",
    "    print(\"16-20 days\")"
   ]
  },
  {
   "cell_type": "code",
   "execution_count": null,
   "id": "71f6360c-d541-4210-8312-6e6344c54f22",
   "metadata": {},
   "outputs": [],
   "source": []
  },
  {
   "cell_type": "code",
   "execution_count": null,
   "id": "7a5cc916-568c-4859-aa84-7aa57be81e71",
   "metadata": {},
   "outputs": [],
   "source": []
  }
 ],
 "metadata": {
  "kernelspec": {
   "display_name": "Python 3 (ipykernel)",
   "language": "python",
   "name": "python3"
  },
  "language_info": {
   "codemirror_mode": {
    "name": "ipython",
    "version": 3
   },
   "file_extension": ".py",
   "mimetype": "text/x-python",
   "name": "python",
   "nbconvert_exporter": "python",
   "pygments_lexer": "ipython3",
   "version": "3.12.4"
  }
 },
 "nbformat": 4,
 "nbformat_minor": 5
}
